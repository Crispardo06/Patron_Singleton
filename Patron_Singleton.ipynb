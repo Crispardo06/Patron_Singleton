{
  "nbformat": 4,
  "nbformat_minor": 0,
  "metadata": {
    "colab": {
      "provenance": [],
      "authorship_tag": "ABX9TyM+Wv/zZbeZ3V1A4Vmd3Jgy",
      "include_colab_link": true
    },
    "kernelspec": {
      "name": "python3",
      "display_name": "Python 3"
    },
    "language_info": {
      "name": "python"
    }
  },
  "cells": [
    {
      "cell_type": "markdown",
      "metadata": {
        "id": "view-in-github",
        "colab_type": "text"
      },
      "source": [
        "<a href=\"https://colab.research.google.com/github/Crispardo06/Patron_Singleton/blob/main/Patron_Singleton.ipynb\" target=\"_parent\"><img src=\"https://colab.research.google.com/assets/colab-badge.svg\" alt=\"Open In Colab\"/></a>"
      ]
    },
    {
      "cell_type": "code",
      "execution_count": null,
      "metadata": {
        "colab": {
          "base_uri": "https://localhost:8080/"
        },
        "id": "4qbu3Fk5YjPo",
        "outputId": "b7f0bb8f-3a63-43b4-dc57-c1c1a5a803ff"
      },
      "outputs": [
        {
          "output_type": "stream",
          "name": "stdout",
          "text": [
            "Creando nueva conexión...\n",
            "Conectado a la base de datos.\n",
            "Conectado a la base de datos.\n",
            "True\n"
          ]
        }
      ],
      "source": [
        "\n",
        "class DatabaseConnection:\n",
        "    _instance = None\n",
        "\n",
        "    def __new__(cls):\n",
        "        if cls._instance is None:\n",
        "            print(\"Creando nueva conexión...\")\n",
        "            cls._instance = super(DatabaseConnection, cls).__new__(cls)\n",
        "        return cls._instance\n",
        "\n",
        "    def connect(self):\n",
        "        print(\"Conectado a la base de datos.\")\n",
        "\n",
        "# Uso en la aplicación\n",
        "if __name__ == \"__main__\":\n",
        "    db1 = DatabaseConnection()\n",
        "    db1.connect()\n",
        "\n",
        "    db2 = DatabaseConnection()\n",
        "    db2.connect()\n",
        "\n",
        "    # Verificar si ambas instancias son iguales\n",
        "    print(db1 is db2)  # True"
      ]
    }
  ]
}