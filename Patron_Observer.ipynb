{
  "nbformat": 4,
  "nbformat_minor": 0,
  "metadata": {
    "colab": {
      "provenance": [],
      "authorship_tag": "ABX9TyOQi0SYiLRXfoqsZF8XMaTw",
      "include_colab_link": true
    },
    "kernelspec": {
      "name": "python3",
      "display_name": "Python 3"
    },
    "language_info": {
      "name": "python"
    }
  },
  "cells": [
    {
      "cell_type": "markdown",
      "metadata": {
        "id": "view-in-github",
        "colab_type": "text"
      },
      "source": [
        "<a href=\"https://colab.research.google.com/github/Crispardo06/Patron_Singleton/blob/main/Patron_Observer.ipynb\" target=\"_parent\"><img src=\"https://colab.research.google.com/assets/colab-badge.svg\" alt=\"Open In Colab\"/></a>"
      ]
    },
    {
      "cell_type": "code",
      "execution_count": 3,
      "metadata": {
        "colab": {
          "base_uri": "https://localhost:8080/"
        },
        "id": "ot37vYUNZN8Q",
        "outputId": "7fda3c23-de61-4e04-e46c-afda613cda96"
      },
      "outputs": [
        {
          "output_type": "stream",
          "name": "stdout",
          "text": [
            "\n",
            "Temperatura actualizada a 25°C\n",
            "Temperatura normal.\n",
            "Registrando temperatura: 25°C\n",
            "Mostrando temperatura en pantalla: 25°C\n",
            "\n",
            "Temperatura actualizada a 35°C\n",
            "¡Alarma! Temperatura muy alta.\n",
            "Registrando temperatura: 35°C\n",
            "Mostrando temperatura en pantalla: 35°C\n"
          ]
        }
      ],
      "source": [
        "# Sujeto (Subject)\n",
        "class SensorTemperatura:\n",
        "    def __init__(self):\n",
        "        self._observadores = []\n",
        "        self._temperatura = 0\n",
        "\n",
        "    def agregar_observador(self, observador):\n",
        "        self._observadores.append(observador)\n",
        "\n",
        "    def eliminar_observador(self, observador):\n",
        "        self._observadores.remove(observador)\n",
        "\n",
        "    def notificar_observadores(self):\n",
        "        for observador in self._observadores:\n",
        "            observador.actualizar(self._temperatura)\n",
        "\n",
        "    def cambiar_temperatura(self, nueva_temp):\n",
        "        print(f\"\\nTemperatura actualizada a {nueva_temp}°C\")\n",
        "        self._temperatura = nueva_temp\n",
        "        self.notificar_observadores()\n",
        "\n",
        "\n",
        "# Observador (Observer) - base\n",
        "class Observador:\n",
        "    def actualizar(self, temperatura):\n",
        "        pass\n",
        "\n",
        "\n",
        "# Observadores concretos\n",
        "class Alarma(Observador):\n",
        "    def actualizar(self, temperatura):\n",
        "        if temperatura > 30:\n",
        "            print(\"¡Alarma! Temperatura muy alta.\")\n",
        "        else:\n",
        "            print(\"Temperatura normal.\")\n",
        "\n",
        "class Registro(Observador):\n",
        "    def actualizar(self, temperatura):\n",
        "        print(f\"Registrando temperatura: {temperatura}°C\")\n",
        "\n",
        "class Pantalla(Observador):\n",
        "    def actualizar(self, temperatura):\n",
        "        print(f\"Mostrando temperatura en pantalla: {temperatura}°C\")\n",
        "\n",
        "\n",
        "# Uso\n",
        "if __name__ == \"__main__\":\n",
        "    sensor = SensorTemperatura()\n",
        "\n",
        "    alarma = Alarma()\n",
        "    registro = Registro()\n",
        "    pantalla = Pantalla()\n",
        "\n",
        "    sensor.agregar_observador(alarma)\n",
        "    sensor.agregar_observador(registro)\n",
        "    sensor.agregar_observador(pantalla)\n",
        "\n",
        "    # Simulando cambios de temperatura\n",
        "    sensor.cambiar_temperatura(25)\n",
        "    sensor.cambiar_temperatura(35)"
      ]
    }
  ]
}